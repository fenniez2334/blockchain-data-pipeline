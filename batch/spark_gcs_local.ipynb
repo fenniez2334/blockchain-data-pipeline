{
 "cells": [
  {
   "cell_type": "code",
   "execution_count": 1,
   "id": "568b1612",
   "metadata": {},
   "outputs": [],
   "source": [
    "# Importing spark and dependencies\n",
    "import pyspark\n",
    "from pyspark.sql import SparkSession\n",
    "from pyspark.conf import SparkConf\n",
    "from pyspark.context import SparkContext"
   ]
  },
  {
   "cell_type": "code",
   "execution_count": 2,
   "id": "98c5e62e",
   "metadata": {},
   "outputs": [
    {
     "name": "stdout",
     "output_type": "stream",
     "text": [
      "25/04/04 17:04:27 WARN NativeCodeLoader: Unable to load native-hadoop library for your platform... using builtin-java classes where applicable\n"
     ]
    },
    {
     "name": "stderr",
     "output_type": "stream",
     "text": [
      "Setting default log level to \"WARN\".\n",
      "To adjust logging level use sc.setLogLevel(newLevel). For SparkR, use setLogLevel(newLevel).\n"
     ]
    }
   ],
   "source": [
    "# Pointing to our Google Project credentials\n",
    "credentials_location = '/home/fenniez/key/gcp-creds.json'\n",
    "\n",
    "# Setting up spark cluster configurations\n",
    "conf = SparkConf() \\\n",
    "    .setMaster('local[*]') \\\n",
    "    .setAppName('test') \\\n",
    "    .set(\"spark.jars\", \"./lib/gcs-connector-hadoop3-2.2.5.jar\") \\\n",
    "    .set(\"spark.hadoop.google.cloud.auth.service.account.enable\", \"true\") \\\n",
    "    .set(\"spark.hadoop.google.cloud.auth.service.account.json.keyfile\", credentials_location)\n",
    "\n",
    "sc = SparkContext(conf=conf)\n",
    "\n",
    "hadoop_conf = sc._jsc.hadoopConfiguration()\n",
    "\n",
    "hadoop_conf.set(\"fs.AbstractFileSystem.gs.impl\",  \"com.google.cloud.hadoop.fs.gcs.GoogleHadoopFS\")\n",
    "hadoop_conf.set(\"fs.gs.impl\", \"com.google.cloud.hadoop.fs.gcs.GoogleHadoopFileSystem\")\n",
    "hadoop_conf.set(\"fs.gs.auth.service.account.json.keyfile\", credentials_location)\n",
    "hadoop_conf.set(\"fs.gs.auth.service.account.enable\", \"true\")"
   ]
  },
  {
   "cell_type": "code",
   "execution_count": 3,
   "id": "4b46aaa1",
   "metadata": {},
   "outputs": [],
   "source": [
    "# Setting up spark cluster\n",
    "spark = SparkSession.builder \\\n",
    "    .config(conf=sc.getConf()) \\\n",
    "    .getOrCreate()"
   ]
  },
  {
   "cell_type": "code",
   "execution_count": 4,
   "id": "21381b7d",
   "metadata": {},
   "outputs": [
    {
     "name": "stderr",
     "output_type": "stream",
     "text": [
      "                                                                                \r"
     ]
    }
   ],
   "source": [
    "# reading data as spark dataframes\n",
    "df_blocks = spark.read.parquet('gs://blockchain-data-pipeline-bucket/blocks/2025/*/*')"
   ]
  },
  {
   "cell_type": "code",
   "execution_count": 7,
   "id": "64b198a0",
   "metadata": {},
   "outputs": [
    {
     "name": "stderr",
     "output_type": "stream",
     "text": [
      "                                                                                \r"
     ]
    }
   ],
   "source": [
    "df_transactions = spark.read.parquet('gs://blockchain-data-pipeline-bucket/transactions/2025/01/*')"
   ]
  },
  {
   "cell_type": "code",
   "execution_count": 8,
   "id": "215dff4b",
   "metadata": {},
   "outputs": [],
   "source": [
    "# Reduce partitions to improve efficiency\n",
    "df_transactions = df_transactions.repartition(50)  # Adjust partition count based on performance testing"
   ]
  },
  {
   "cell_type": "code",
   "execution_count": 5,
   "id": "57abf4df",
   "metadata": {},
   "outputs": [
    {
     "name": "stderr",
     "output_type": "stream",
     "text": [
      "                                                                                \r"
     ]
    },
    {
     "data": {
      "text/plain": [
       "13243"
      ]
     },
     "execution_count": 5,
     "metadata": {},
     "output_type": "execute_result"
    }
   ],
   "source": [
    "df_blocks.count()"
   ]
  },
  {
   "cell_type": "code",
   "execution_count": 9,
   "id": "88f1da63",
   "metadata": {},
   "outputs": [
    {
     "name": "stderr",
     "output_type": "stream",
     "text": [
      "                                                                                \r"
     ]
    },
    {
     "data": {
      "text/plain": [
       "11581705"
      ]
     },
     "execution_count": 9,
     "metadata": {},
     "output_type": "execute_result"
    }
   ],
   "source": [
    "df_transactions.count()"
   ]
  },
  {
   "cell_type": "code",
   "execution_count": 11,
   "id": "0bf2568b",
   "metadata": {},
   "outputs": [
    {
     "data": {
      "text/plain": [
       "[Row(hash='000000000000000000001e4d78f5c579cb010f0d8a9492cbee89a966df7d4134', size=350, stripped_size=314, weight=1292, number=890103, version=805306368, merkle_root='190febd0deafadcc1a681024ebc5a7068af309e74a3bb34c0b93734d54ee81d5', timestamp=datetime.datetime(2025, 3, 30, 10, 53, 38), timestamp_month=datetime.date(2025, 3, 1), nonce='c8891e07', bits='1702796c', coinbase_param='03f7940d04b222e967537069646572506f6f6c2f484b3130393130362ff955009b5c53ff1e8a14010000000000', transaction_count=1),\n",
       " Row(hash='000000000000000000023d80ea035a2cbf50406df889edb970df92ad2644e628', size=326, stripped_size=326, weight=1304, number=889406, version=561135616, merkle_root='d431e064660db5f6603aad25fd4fb8cc4413a41f3d06a06b3e364c1fa0c99913', timestamp=datetime.datetime(2025, 3, 25, 17, 51, 32), timestamp_month=datetime.date(2025, 3, 1), nonce='52c6a05a', bits='1702796c', coinbase_param='033e920d082f5669614254432f2cfabe6d6d004818462632b650640cb4da24fbfcf706aa4a0311653645917ca393c8ed6dd7100000000000000010ebdd260359ab2df05f7d909c0000000000000002', transaction_count=1),\n",
       " Row(hash='000000000000000000000f572ca65a466c88f7ddb70d76befe3231a98ee1cefa', size=418, stripped_size=382, weight=1564, number=889122, version=537206784, merkle_root='85e08dc5c13f75a9e0f7fed374a86387a8e714c1c7a958cfcca87384b163f0fc', timestamp=datetime.datetime(2025, 3, 23, 21, 44, 24), timestamp_month=datetime.date(2025, 3, 1), nonce='2685407b', bits='1702796c', coinbase_param='0322910d04b880e067537069646572506f6f6c2f55533931332ffabe6d6da80af7f05721dd4ba18090aa2a62848ee6674af9f7016fcf37466acd0bc1726e0100000000000000ecb15d23073dec96ad0a000000000000', transaction_count=1),\n",
       " Row(hash='000000000000000000010025025811b68a572997fa06ab2992f334f9cd4117a9', size=476, stripped_size=440, weight=1796, number=889993, version=702701568, merkle_root='405ed01f6bd711d9a7c07f372c60c0425c29e0276f66869a5122a6359861f4bd', timestamp=datetime.datetime(2025, 3, 29, 16, 42, 6), timestamp_month=datetime.date(2025, 3, 1), nonce='2b489810', bits='1702796c', coinbase_param='0389940d20202020204d696e656420627920536563706f6f6c202020207000130296341519fabe6d6da3a6755238f075f396667490f08afd6d2c0d59775778f4216195277b5b1c4cb510000000000000000000437f06000000', transaction_count=1),\n",
       " Row(hash='00000000000000000000f95a5666fd83970b44b539bd9d822d0a9ce929ff75e4', size=4954, stripped_size=2541, weight=12577, number=890158, version=576921600, merkle_root='6940e13ba37f56e99036570aa7fbc456af44bbe7081d5c9534a57ff372886a44', timestamp=datetime.datetime(2025, 3, 30, 21, 36, 49), timestamp_month=datetime.date(2025, 3, 1), nonce='cdde744c', bits='1702796c', coinbase_param='032e950d0471b9e9672f466f756e6472792055534120506f6f6c202364726f70676f6c642f4e0d4620000005d40d000000', transaction_count=18)]"
      ]
     },
     "execution_count": 11,
     "metadata": {},
     "output_type": "execute_result"
    }
   ],
   "source": [
    "df_blocks.head(5)"
   ]
  },
  {
   "cell_type": "code",
   "execution_count": 12,
   "id": "d7fe25e2",
   "metadata": {},
   "outputs": [
    {
     "name": "stderr",
     "output_type": "stream",
     "text": [
      "                                                                                \r"
     ]
    },
    {
     "data": {
      "text/plain": [
       "[Row(hash='b66d7772ba8d29fbb5e49b82b4594f4ce3cb562b1fb8f47cede109a6ed9ad548', size=222, virtual_size=141, version=2, lock_time=0, block_hash='000000000000000000026097dff69f4a68a173804d05de56775b49e99631e252', block_number=877481, block_timestamp=datetime.datetime(2025, 1, 2, 12, 21, 48), block_timestamp_month=datetime.date(2025, 1, 1), input_count=1, output_count=2, input_value=Decimal('222367.000000000'), output_value=Decimal('221885.000000000'), is_coinbase=False, fee=Decimal('482.000000000'), inputs=[Row(index=0, spent_transaction_hash='4a58e9a167c4be852bbca5bfb5b77f2ae27064ee4410358c6d780d9d0b7deeec', spent_output_index=0, script_asm='', script_hex='', sequence=4294967295, required_signatures=None, type='witness_v0_keyhash', addresses=['bc1qw5rkjyle5ge7768zs34krzlq5x9rfhs2dwm6f7'], value=Decimal('222367.000000000'))], outputs=[Row(index=0, script_asm='0 de39e936260f78a0461feb6c4bf03449a8ee4f91', script_hex='0014de39e936260f78a0461feb6c4bf03449a8ee4f91', required_signatures=None, type='witness_v0_keyhash', addresses=['bc1qmcu7jd3xpau2q3sladkyhup5fx5wunu3wzt0wk'], value=Decimal('197998.000000000')), Row(index=1, script_asm='0 135041e73aa4092fce152390e00664d311f1e36e', script_hex='0014135041e73aa4092fce152390e00664d311f1e36e', required_signatures=None, type='witness_v0_keyhash', addresses=['bc1qzdgyree65syjlns4ywgwqpny6vglrcmw50tww2'], value=Decimal('23887.000000000'))])]"
      ]
     },
     "execution_count": 12,
     "metadata": {},
     "output_type": "execute_result"
    }
   ],
   "source": [
    "df_transactions.head(1)"
   ]
  },
  {
   "cell_type": "code",
   "execution_count": 6,
   "id": "33471d72",
   "metadata": {},
   "outputs": [
    {
     "name": "stderr",
     "output_type": "stream",
     "text": [
      "                                                                                \r"
     ]
    }
   ],
   "source": [
    "df_blocks.coalesce(1).write.parquet('blocks.parquet', mode='overwrite')"
   ]
  },
  {
   "cell_type": "code",
   "execution_count": 10,
   "id": "cee3f53f",
   "metadata": {},
   "outputs": [
    {
     "name": "stderr",
     "output_type": "stream",
     "text": [
      "                                                                                \r"
     ]
    }
   ],
   "source": [
    "df_transactions.coalesce(1).write.parquet('transactions.parquet', mode='overwrite')"
   ]
  }
 ],
 "metadata": {
  "kernelspec": {
   "display_name": "Python 3 (ipykernel)",
   "language": "python",
   "name": "python3"
  },
  "language_info": {
   "codemirror_mode": {
    "name": "ipython",
    "version": 3
   },
   "file_extension": ".py",
   "mimetype": "text/x-python",
   "name": "python",
   "nbconvert_exporter": "python",
   "pygments_lexer": "ipython3",
   "version": "3.9.7"
  }
 },
 "nbformat": 4,
 "nbformat_minor": 5
}
